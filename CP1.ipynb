{
  "nbformat": 4,
  "nbformat_minor": 0,
  "metadata": {
    "colab": {
      "private_outputs": true,
      "provenance": [],
      "mount_file_id": "1BdjCjOOImJh2nxZcP0pVxz4XOwYWwdFj",
      "authorship_tag": "ABX9TyNmpNGoVA9r/pmRm+Ad9w+0",
      "include_colab_link": true
    },
    "kernelspec": {
      "name": "python3",
      "display_name": "Python 3"
    },
    "language_info": {
      "name": "python"
    },
    "accelerator": "GPU",
    "gpuClass": "standard"
  },
  "cells": [
    {
      "cell_type": "markdown",
      "metadata": {
        "id": "view-in-github",
        "colab_type": "text"
      },
      "source": [
        "<a href=\"https://colab.research.google.com/github/holoho/CP/blob/main/CP1.ipynb\" target=\"_parent\"><img src=\"https://colab.research.google.com/assets/colab-badge.svg\" alt=\"Open In Colab\"/></a>"
      ]
    },
    {
      "cell_type": "code",
      "source": [
        "from google.colab import drive\n",
        "drive.mount('/content/drive')"
      ],
      "metadata": {
        "id": "c6HN-NmHHzeF"
      },
      "execution_count": null,
      "outputs": []
    },
    {
      "cell_type": "code",
      "source": [
        "import requests, json, os, shutil, time, glob\n",
        "from bs4 import BeautifulSoup\n",
        "import pandas as pd\n",
        "import tensorflow as tf"
      ],
      "metadata": {
        "id": "5N6DgZeg1qVa"
      },
      "execution_count": null,
      "outputs": []
    },
    {
      "cell_type": "code",
      "source": [],
      "metadata": {
        "id": "N0z5a38pj7ke"
      },
      "execution_count": null,
      "outputs": []
    },
    {
      "cell_type": "code",
      "source": [
        "# 만개의 레시피 이미지 크롤링\n",
        "from urllib.request import urlretrieve # 이미지를 저장할 때 사용\n",
        " \n",
        "food_list = ['김치찌개','계란볶음밥']\n",
        " \n",
        "start = time.time()  \n",
        "for name in food_list:# 반복문을 사용해 음식 종류 list안에 있는 음식별로 크롤링 할 수 있도록 설정\n",
        "    \n",
        "    base_url = 'https://www.10000recipe.com/recipe/list.html?q={}&order=reco&page={}' \n",
        "    n = 1\n",
        "    \n",
        "    for page in range(1, 5):  \n",
        "        try:\n",
        "            url = base_url.format(name, page)\n",
        "            response = requests.post(url)\n",
        "        \n",
        "            soup = BeautifulSoup(response.content, 'html.parser')\n",
        "            images = soup.findAll(\"a\", {\"class\" : \"common_sp_link\"})\n",
        "        \n",
        "            if not images: # 빈 리스트인 경우\n",
        "                raise ex\n",
        "                \n",
        "            imgurl = [] # 이미지 url을 저장하기 위한 변수\n",
        " \n",
        "            for i in images:\n",
        "                temp = i.img['src'] \n",
        "                \n",
        "                if temp.endswith('png') is False: # png형식의 파일은 저장하지 않는다. \n",
        "                    imgurl.append(i.img['src']) # 이미지의 source 주소를 가져와 imgurl list에 추가한다\n",
        "            \n",
        "            for i in imgurl:\n",
        "                urlretrieve(i, \"/content/drive/MyDrive/AI/projectp/pp/\" + name + \"-\" + str(n) + \".jpg\") # 크롤링한 사진에 1씩 값을 증가해 저장한다\n",
        "                n += 1\n",
        "            \n",
        "        except Exception as ex: # 이미지가 없는 경우 종료\n",
        "            print(name + \" 크롤링 완료\")\n",
        "            print(ex)\n",
        "            break\n",
        "            \n",
        "print(\"총 소요시간 : \" + str(time.time() - start))  \n"
      ],
      "metadata": {
        "id": "fUZfYRW8-VeJ"
      },
      "execution_count": null,
      "outputs": []
    },
    {
      "cell_type": "code",
      "source": [
        "image_directory = '/content/drive/MyDrive/AI/projectp/pp'\n",
        "df = pd.read_excel('/content/drive/MyDrive/AI/projectp/통합 식품영양성분DB_음식_20221110.xlsx', header = 3) "
      ],
      "metadata": {
        "id": "KVG_ZPY_YKsf"
      },
      "execution_count": null,
      "outputs": []
    },
    {
      "cell_type": "code",
      "source": [
        "df = df[['식품명','1회제공량','에너지(㎉)','수분(g)','단백질(g)','지방(g)','탄수화물(g)','총당류(g)','총 식이섬유(g)']]"
      ],
      "metadata": {
        "id": "UsbpT2y4eh3q"
      },
      "execution_count": null,
      "outputs": []
    },
    {
      "cell_type": "code",
      "source": [
        "# 이미지 파일 있는 식품명만 선택\n",
        "df1 = df.loc[df['식품명'].isin(['칼국수','해장국','햄버거','김밥','김치찌개','냉면','계란볶음밥','닭가슴살샐러드','돈가스','떡국','샌드위치','우동','연어샐러드','카레',\n",
        "                       '짜장면','짬뽕','제육볶음덮밥','순댓국','비빔밥','불고기덮밥','뼈해장국','감자탕','갈비탕','닭갈비','순두부찌개','콩나물국밥','달걀말이','족발',\n",
        "                       '보쌈','백반','라면','떡볶이'])] "
      ],
      "metadata": {
        "id": "TS7_Alv6ZcRk"
      },
      "execution_count": null,
      "outputs": []
    },
    {
      "cell_type": "code",
      "source": [
        "df2 = df1.reset_index(drop=True) # 인덱스 컬럼 제거"
      ],
      "metadata": {
        "id": "1gdR-XTsZj9F"
      },
      "execution_count": null,
      "outputs": []
    },
    {
      "cell_type": "code",
      "source": [
        "df2"
      ],
      "metadata": {
        "id": "vK1YvQo-XizB"
      },
      "execution_count": null,
      "outputs": []
    },
    {
      "cell_type": "code",
      "source": [
        "data = df2.drop(labels=[0,4,5],axis=0) # 식품명 중복 제거"
      ],
      "metadata": {
        "id": "XCgUKEYaeTyN"
      },
      "execution_count": null,
      "outputs": []
    },
    {
      "cell_type": "code",
      "source": [
        "data = data.reset_index(drop=True)"
      ],
      "metadata": {
        "id": "KQvTK2P-4gnt"
      },
      "execution_count": null,
      "outputs": []
    },
    {
      "cell_type": "code",
      "source": [
        "data"
      ],
      "metadata": {
        "id": "74tN81p86BZc"
      },
      "execution_count": null,
      "outputs": []
    },
    {
      "cell_type": "code",
      "source": [
        "import cv2\n",
        "import imghdr\n",
        "import numpy as np\n",
        "from matplotlib import pyplot as plt"
      ],
      "metadata": {
        "id": "W3aEd2_b3ArM"
      },
      "execution_count": null,
      "outputs": []
    },
    {
      "cell_type": "code",
      "source": [
        "image_exts = ['jpeg','jpg']\n",
        "for image_class in os.listdir(image_directory): \n",
        "    for image in os.listdir(os.path.join(image_directory, image_class)):\n",
        "        image_path = os.path.join(image_directory, image_class, image)\n",
        "        try: \n",
        "            img = cv2.imread(image_path)\n",
        "            tip = imghdr.what(image_path)\n",
        "            if tip not in image_exts: \n",
        "                print('Image not in ext list {}'.format(image_path))\n",
        "                os.remove(image_path)\n",
        "        except Exception as e: \n",
        "            print('Issue with image {}'.format(image_path))"
      ],
      "metadata": {
        "id": "z-0wkwCaqir5"
      },
      "execution_count": null,
      "outputs": []
    },
    {
      "cell_type": "code",
      "source": [
        "data1 = tf.keras.utils.image_dataset_from_directory(image_directory)"
      ],
      "metadata": {
        "id": "O1OR78U6tUOz"
      },
      "execution_count": null,
      "outputs": []
    },
    {
      "cell_type": "code",
      "source": [
        "data_iterator = data1.as_numpy_iterator()\n",
        "batch = data_iterator.next()\n",
        "\n",
        "fig, ax = plt.subplots(ncols=4, figsize=(20,20))\n",
        "for idx, img in enumerate(batch[0][:4]):\n",
        "    ax[idx].imshow(img.astype(int))\n",
        "    ax[idx].title.set_text(batch[1][idx])"
      ],
      "metadata": {
        "id": "asxs3X4BtoL5"
      },
      "execution_count": null,
      "outputs": []
    },
    {
      "cell_type": "code",
      "source": [
        "# 이미지 numpy array 변형\n",
        "batch[0].shape"
      ],
      "metadata": {
        "id": "27RFoIqBnRyI"
      },
      "execution_count": null,
      "outputs": []
    },
    {
      "cell_type": "markdown",
      "source": [],
      "metadata": {
        "id": "v39gYerIl84F"
      }
    },
    {
      "cell_type": "code",
      "source": [
        "# class가 33개이기에 전부 binary로 변경하기 위해 시도(안해도 모델 돌아감)\n",
        "#from sklearn.preprocessing import MultiLabelBinarizer\n",
        "#mlb = MultiLabelBinarizer()\n",
        "#yh = mlb.fit_transform(['칼국수','해장국','햄버거','김밥','김치찌개','냉면','계란볶음밥','닭가슴살샐러드','돈가스','떡국','샌드위치','우동','연어샐러드','카레',\n",
        "#                       '짜장면','짬뽕','제육볶음덮밥','순댓국','비빔밥','불고기덮밥','뼈해장국','감자탕','갈비탕','닭갈비','순두부찌개','콩나물국밥','달걀말이','족발',\n",
        "#                       '보쌈','백반','라면','떡볶이'])"
      ],
      "metadata": {
        "id": "Z-xSTB2Srx53"
      },
      "execution_count": null,
      "outputs": []
    },
    {
      "cell_type": "code",
      "source": [
        "# 데이터 scaling\n",
        "data1 = data1.map(lambda x,y: (x/255, y))\n",
        "scaled = data1.as_numpy_iterator()"
      ],
      "metadata": {
        "id": "nus1CPTOtydd"
      },
      "execution_count": null,
      "outputs": []
    },
    {
      "cell_type": "code",
      "source": [
        "train_size = int(len(data1)*.7)\n",
        "val_size = int(len(data1)*.2)+1\n",
        "test_size = int(len(data1)*.1)+1"
      ],
      "metadata": {
        "id": "HhvRbD7Bt5j5"
      },
      "execution_count": null,
      "outputs": []
    },
    {
      "cell_type": "code",
      "source": [
        "train = data1.take(train_size)\n",
        "val = data1.skip(train_size).take(val_size)\n",
        "test = data1.skip(train_size+val_size).take(test_size)"
      ],
      "metadata": {
        "id": "sT3O6oxRt_Cw"
      },
      "execution_count": null,
      "outputs": []
    },
    {
      "cell_type": "code",
      "source": [
        "len(train)"
      ],
      "metadata": {
        "id": "PrM_DiyQ7PzO"
      },
      "execution_count": null,
      "outputs": []
    },
    {
      "cell_type": "code",
      "source": [
        "import itertools\n",
        "import keras\n",
        "from tqdm import tqdm\n",
        "from sklearn import metrics\n",
        "from sklearn.metrics import confusion_matrix\n",
        "from tensorflow.keras.models import Sequential\n",
        "from tensorflow.keras.layers import Conv2D, MaxPooling2D, Dense, Flatten, Dropout\n",
        "from keras.preprocessing.image import ImageDataGenerator\n",
        "from tensorflow.keras.applications import resnet\n",
        "from tensorflow.keras.applications.vgg16 import VGG16\n",
        "from tensorflow.keras.utils import img_to_array, load_img \n",
        "from keras.models import Sequential, Model \n",
        "from keras.layers import BatchNormalization\n",
        "from keras import regularizers, applications, optimizers, initializers\n",
        "from keras.preprocessing import image\n",
        "from keras.layers import Dropout, Flatten, Dense  \n",
        "from keras import applications  \n",
        "from keras.utils.np_utils import to_categorical  \n",
        "import matplotlib.pyplot as plt \n",
        "import matplotlib.image as mpimg\n",
        "%matplotlib inline\n",
        "import math  \n",
        "import datetime\n",
        "import time"
      ],
      "metadata": {
        "id": "ZW4ML0s4MENt"
      },
      "execution_count": null,
      "outputs": []
    },
    {
      "cell_type": "code",
      "source": [
        "model = Sequential()\n",
        "model.add(Conv2D(16, (3,3), 1, activation='relu', input_shape=(256,256,3)))\n",
        "model.add(MaxPooling2D())\n",
        "model.add(Conv2D(32, (3,3), 1, activation='relu'))\n",
        "model.add(MaxPooling2D())\n",
        "model.add(Conv2D(16, (3,3), 1, activation='relu'))\n",
        "model.add(MaxPooling2D())\n",
        "model.add(Flatten())\n",
        "model.add(Dense(256, activation='relu'))\n",
        "model.add(Dense(1, activation='sigmoid'))\n",
        "model.compile('adam', loss=tf.losses.BinaryCrossentropy(), metrics=['accuracy'])"
      ],
      "metadata": {
        "id": "NusDB1V7uJ_6"
      },
      "execution_count": null,
      "outputs": []
    },
    {
      "cell_type": "code",
      "source": [
        "model.summary()"
      ],
      "metadata": {
        "id": "A5Qaob55uO_a"
      },
      "execution_count": null,
      "outputs": []
    },
    {
      "cell_type": "code",
      "source": [],
      "metadata": {
        "id": "g3ko3uSn71bE"
      },
      "execution_count": null,
      "outputs": []
    },
    {
      "cell_type": "code",
      "source": [
        "logdir='logs'"
      ],
      "metadata": {
        "id": "grA5yUDVuQsR"
      },
      "execution_count": null,
      "outputs": []
    },
    {
      "cell_type": "code",
      "source": [
        "tensorboard_callback = tf.keras.callbacks.TensorBoard(log_dir=logdir)\n",
        "hist = model.fit(train, epochs=20, validation_data=val, callbacks=[tensorboard_callback])"
      ],
      "metadata": {
        "id": "uqpVDHTTkA5-"
      },
      "execution_count": null,
      "outputs": []
    },
    {
      "cell_type": "code",
      "source": [
        "hist.history"
      ],
      "metadata": {
        "id": "ZFWO8w-skO7M"
      },
      "execution_count": null,
      "outputs": []
    },
    {
      "cell_type": "code",
      "source": [
        "fig = plt.figure()\n",
        "plt.plot(hist.history['loss'], color='teal', label='loss')\n",
        "plt.plot(hist.history['val_loss'], color='orange', label='val_loss')\n",
        "fig.suptitle('Loss', fontsize=20)\n",
        "plt.legend(loc=\"upper left\")\n",
        "plt.show()"
      ],
      "metadata": {
        "id": "1rvF6RIgkFBy"
      },
      "execution_count": null,
      "outputs": []
    },
    {
      "cell_type": "code",
      "source": [
        "fig = plt.figure()\n",
        "plt.plot(hist.history['accuracy'], color='teal', label='accuracy')\n",
        "plt.plot(hist.history['val_accuracy'], color='orange', label='val_accuracy')\n",
        "fig.suptitle('Accuracy', fontsize=20)\n",
        "plt.legend(loc=\"upper left\")\n",
        "plt.show()"
      ],
      "metadata": {
        "id": "XaliyzYSkIK0"
      },
      "execution_count": null,
      "outputs": []
    },
    {
      "cell_type": "code",
      "source": [
        "from tensorflow.keras.metrics import Precision, Recall, BinaryAccuracy\n",
        "pre = Precision()\n",
        "re = Recall()\n",
        "acc = BinaryAccuracy()"
      ],
      "metadata": {
        "id": "kixESsoxkM1C"
      },
      "execution_count": null,
      "outputs": []
    },
    {
      "cell_type": "code",
      "source": [
        "for batch in test.as_numpy_iterator(): \n",
        "    X, y = batch\n",
        "    yhat = model.predict(X)\n",
        "    pre.update_state(y, yhat)\n",
        "    re.update_state(y, yhat)\n",
        "    acc.update_state(y, yhat)"
      ],
      "metadata": {
        "id": "DhPQ1cktkPvf"
      },
      "execution_count": null,
      "outputs": []
    },
    {
      "cell_type": "code",
      "source": [
        "print(pre.result(), re.result(), acc.result())"
      ],
      "metadata": {
        "id": "buBENnq-kRAQ"
      },
      "execution_count": null,
      "outputs": []
    },
    {
      "cell_type": "code",
      "source": [],
      "metadata": {
        "id": "U0E43XhQ8sJg"
      },
      "execution_count": null,
      "outputs": []
    },
    {
      "cell_type": "code",
      "source": [
        "img = cv2.imread('냉면-10.jpg')\n",
        "plt.imshow(img)\n",
        "plt.show()"
      ],
      "metadata": {
        "id": "J1JxN9lP8guq"
      },
      "execution_count": null,
      "outputs": []
    },
    {
      "cell_type": "code",
      "source": [
        "resize = tf.image.resize(img, (256,256))\n",
        "plt.imshow(resize.numpy().astype(int))\n",
        "plt.show()"
      ],
      "metadata": {
        "id": "-jvvCLto8z6a"
      },
      "execution_count": null,
      "outputs": []
    },
    {
      "cell_type": "code",
      "source": [
        "yhat = model.predict(np.expand_dims(resize/255, 0))\n",
        "yhat"
      ],
      "metadata": {
        "id": "q05wnrJA83j8"
      },
      "execution_count": null,
      "outputs": []
    },
    {
      "cell_type": "code",
      "source": [
        "DIRECTORY = '/content/drive/MyDrive/AI/projectp/pp'\n",
        "\n",
        "CATEGORIES = ['칼국수','해장국','햄버거','김밥','김치찌개','냉면','계란볶음밥','닭가슴살샐러드','돈가스','떡국','샌드위치','우동','연어샐러드','카레',\n",
        "                       '짜장면','짬뽕','제육볶음덮밥','순댓국','비빔밥','불고기덮밥','뼈해장국','감자탕','갈비탕','닭갈비','순두부찌개','콩나물국밥','달걀말이']"
      ],
      "metadata": {
        "id": "_p0G1j7ceMYw"
      },
      "execution_count": null,
      "outputs": []
    }
  ]
}