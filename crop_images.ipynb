{
  "nbformat": 4,
  "nbformat_minor": 0,
  "metadata": {
    "colab": {
      "private_outputs": true,
      "provenance": [],
      "authorship_tag": "ABX9TyMOE60ysLZ0tIGIddTQjCnR",
      "include_colab_link": true
    },
    "kernelspec": {
      "name": "python3",
      "display_name": "Python 3"
    },
    "language_info": {
      "name": "python"
    }
  },
  "cells": [
    {
      "cell_type": "markdown",
      "metadata": {
        "id": "view-in-github",
        "colab_type": "text"
      },
      "source": [
        "<a href=\"https://colab.research.google.com/github/holoho/CP/blob/main/crop_images.ipynb\" target=\"_parent\"><img src=\"https://colab.research.google.com/assets/colab-badge.svg\" alt=\"Open In Colab\"/></a>"
      ]
    },
    {
      "cell_type": "code",
      "execution_count": null,
      "metadata": {
        "id": "LojBkrNtUf3X"
      },
      "outputs": [],
      "source": []
    },
    {
      "cell_type": "code",
      "source": [
        "from google.colab import drive\n",
        "drive.mount('/content/drive')"
      ],
      "metadata": {
        "id": "av3TJyOeUir9"
      },
      "execution_count": null,
      "outputs": []
    },
    {
      "cell_type": "code",
      "source": [
        "import PIL\n",
        "import os\n",
        "import os.path\n",
        "from PIL import Image"
      ],
      "metadata": {
        "id": "zuu6Go7IVEwL"
      },
      "execution_count": null,
      "outputs": []
    },
    {
      "cell_type": "code",
      "source": [
        "f = r'/content/drive/MyDrive/AI/CP2/cartrain/white'\n",
        "for file in os.listdir(f):\n",
        "    f_img = f+\"/\"+file\n",
        "    img = Image.open(f_img)\n",
        "    img = img.resize((416,416))\n",
        "    img.save(f_img)"
      ],
      "metadata": {
        "id": "LIvuBnD7U29j"
      },
      "execution_count": null,
      "outputs": []
    },
    {
      "cell_type": "code",
      "source": [
        "fv = r'/content/drive/MyDrive/AI/CP2/carvalid/white'\n",
        "for file in os.listdir(fv):\n",
        "    f_img = fv+\"/\"+file\n",
        "    img = Image.open(f_img)\n",
        "    img = img.resize((416,416))\n",
        "    img.save(f_img)"
      ],
      "metadata": {
        "id": "uVIDdG_mVgYb"
      },
      "execution_count": null,
      "outputs": []
    }
  ]
}